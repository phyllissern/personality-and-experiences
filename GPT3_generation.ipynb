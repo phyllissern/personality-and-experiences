{
 "cells": [
  {
   "cell_type": "code",
   "execution_count": 1,
   "metadata": {
    "colab": {
     "base_uri": "https://localhost:8080/"
    },
    "id": "ujLE4yWhhzPp",
    "outputId": "b5fb87f0-b8c9-4bcb-b82d-6e23ca755d7b"
   },
   "outputs": [
    {
     "name": "stderr",
     "output_type": "stream",
     "text": [
      "[nltk_data] Downloading package punkt to\n",
      "[nltk_data]     /Users/phyllissern/nltk_data...\n",
      "[nltk_data]   Package punkt is already up-to-date!\n",
      "[nltk_data] Downloading package stopwords to\n",
      "[nltk_data]     /Users/phyllissern/nltk_data...\n",
      "[nltk_data]   Package stopwords is already up-to-date!\n",
      "[nltk_data] Downloading package averaged_perceptron_tagger to\n",
      "[nltk_data]     /Users/phyllissern/nltk_data...\n",
      "[nltk_data]   Package averaged_perceptron_tagger is already up-to-\n",
      "[nltk_data]       date!\n",
      "[nltk_data] Downloading package wordnet to\n",
      "[nltk_data]     /Users/phyllissern/nltk_data...\n",
      "[nltk_data]   Package wordnet is already up-to-date!\n"
     ]
    }
   ],
   "source": [
    "### ALL NECESSARY LIBRARIES ###\n",
    "import pandas as pd\n",
    "import numpy as np\n",
    "import random\n",
    "import itertools\n",
    "from itertools import chain\n",
    "import warnings\n",
    "warnings.simplefilter(action='ignore')\n",
    "\n",
    "import time\n",
    "# import transformers\n",
    "# import torch\n",
    "import re\n",
    "import string\n",
    "\n",
    "# for saving variables\n",
    "import pickle\n",
    "\n",
    "# needed for gpt\n",
    "import openai\n",
    "from tenacity import retry, wait_random_exponential, stop_after_attempt\n",
    "\n",
    "# these are needed for preprocessing\n",
    "import nltk\n",
    "from nltk.tokenize import word_tokenize\n",
    "from nltk.corpus import stopwords\n",
    "from nltk.stem import WordNetLemmatizer, PorterStemmer\n",
    "nltk.download('punkt')\n",
    "nltk.download('stopwords')\n",
    "nltk.download('averaged_perceptron_tagger')\n",
    "nltk.download('wordnet')\n",
    "\n",
    "# these are needed for coherence measures\n",
    "import gensim.corpora as corpora\n",
    "from gensim.models.coherencemodel import CoherenceModel\n",
    "\n",
    "from sklearn.preprocessing import Binarizer, normalize\n",
    "from sklearn.feature_extraction.text import CountVectorizer\n",
    "from sklearn.cluster import KMeans\n",
    "from sklearn.metrics import silhouette_score, calinski_harabasz_score, davies_bouldin_score\n",
    "from sklearn.metrics.pairwise import cosine_similarity, euclidean_distances\n",
    "from sklearn.manifold import TSNE\n",
    "\n",
    "# plotting\n",
    "# import matplotlib\n",
    "import matplotlib.pyplot as plt\n",
    "import plotly.express as px\n",
    "\n",
    "# network libraries\n",
    "import networkx as nx\n",
    "# import hypernetx as hnx\n",
    "\n",
    "# pyarrow and/or multiprocessing (multithreading)"
   ]
  },
  {
   "cell_type": "markdown",
   "metadata": {
    "id": "fntiSCeChzPv"
   },
   "source": [
    "Import dataset"
   ]
  },
  {
   "cell_type": "code",
   "execution_count": 2,
   "metadata": {
    "colab": {
     "base_uri": "https://localhost:8080/",
     "height": 206
    },
    "id": "gmnDLwTmhzPy",
    "outputId": "afeb1b33-a21b-4d5e-fe9c-1bdeebf71c6a"
   },
   "outputs": [
    {
     "data": {
      "text/html": [
       "<div>\n",
       "<style scoped>\n",
       "    .dataframe tbody tr th:only-of-type {\n",
       "        vertical-align: middle;\n",
       "    }\n",
       "\n",
       "    .dataframe tbody tr th {\n",
       "        vertical-align: top;\n",
       "    }\n",
       "\n",
       "    .dataframe thead th {\n",
       "        text-align: right;\n",
       "    }\n",
       "</style>\n",
       "<table border=\"1\" class=\"dataframe\">\n",
       "  <thead>\n",
       "    <tr style=\"text-align: right;\">\n",
       "      <th></th>\n",
       "      <th>Instrument</th>\n",
       "      <th>ItemNumber</th>\n",
       "      <th>Dimension</th>\n",
       "      <th>prompt</th>\n",
       "      <th>modification</th>\n",
       "      <th>exclude</th>\n",
       "    </tr>\n",
       "  </thead>\n",
       "  <tbody>\n",
       "    <tr>\n",
       "      <th>0</th>\n",
       "      <td>OAV</td>\n",
       "      <td>1</td>\n",
       "      <td>Impaired control and cognition</td>\n",
       "      <td>I felt like a marionette.</td>\n",
       "      <td>NaN</td>\n",
       "      <td>NaN</td>\n",
       "    </tr>\n",
       "    <tr>\n",
       "      <th>1</th>\n",
       "      <td>OAV</td>\n",
       "      <td>2</td>\n",
       "      <td>Spiritual Experience</td>\n",
       "      <td>I had the feeling of being connected to a supe...</td>\n",
       "      <td>NaN</td>\n",
       "      <td>NaN</td>\n",
       "    </tr>\n",
       "    <tr>\n",
       "      <th>2</th>\n",
       "      <td>OAV</td>\n",
       "      <td>3</td>\n",
       "      <td>Blissful State</td>\n",
       "      <td>I enjoyed boundless pleasure.</td>\n",
       "      <td>NaN</td>\n",
       "      <td>NaN</td>\n",
       "    </tr>\n",
       "    <tr>\n",
       "      <th>3</th>\n",
       "      <td>OAV</td>\n",
       "      <td>4</td>\n",
       "      <td>Elementary imagery</td>\n",
       "      <td>I saw regular patterns in complete darkness or...</td>\n",
       "      <td>NaN</td>\n",
       "      <td>NaN</td>\n",
       "    </tr>\n",
       "    <tr>\n",
       "      <th>4</th>\n",
       "      <td>OAV</td>\n",
       "      <td>5</td>\n",
       "      <td>Experience of unity</td>\n",
       "      <td>Everything seemed to unify into a oneness.</td>\n",
       "      <td>NaN</td>\n",
       "      <td>NaN</td>\n",
       "    </tr>\n",
       "  </tbody>\n",
       "</table>\n",
       "</div>"
      ],
      "text/plain": [
       "  Instrument  ItemNumber                       Dimension  \\\n",
       "0        OAV           1  Impaired control and cognition   \n",
       "1        OAV           2            Spiritual Experience   \n",
       "2        OAV           3                  Blissful State   \n",
       "3        OAV           4              Elementary imagery   \n",
       "4        OAV           5             Experience of unity   \n",
       "\n",
       "                                              prompt modification  exclude  \n",
       "0                          I felt like a marionette.          NaN      NaN  \n",
       "1  I had the feeling of being connected to a supe...          NaN      NaN  \n",
       "2                      I enjoyed boundless pleasure.          NaN      NaN  \n",
       "3  I saw regular patterns in complete darkness or...          NaN      NaN  \n",
       "4         Everything seemed to unify into a oneness.          NaN      NaN  "
      ]
     },
     "execution_count": 2,
     "metadata": {},
     "output_type": "execute_result"
    }
   ],
   "source": [
    "df = pd.read_csv('cues_list_extended_091823.csv')\n",
    "df.head()"
   ]
  },
  {
   "cell_type": "markdown",
   "metadata": {
    "id": "FDCAVjPwj9gL"
   },
   "source": [
    "# New Section"
   ]
  },
  {
   "cell_type": "code",
   "execution_count": 3,
   "metadata": {
    "colab": {
     "base_uri": "https://localhost:8080/"
    },
    "id": "xXDlA9dGhzPy",
    "outputId": "8a433572-62c3-4fe5-b9a1-f0a7f1bfc599"
   },
   "outputs": [
    {
     "name": "stdout",
     "output_type": "stream",
     "text": [
      "n_items:  1216\n",
      "n_dimensions:  219\n",
      "{'FFMQ', 'MNE-92M', 'SSSQ', 'PhCI', '5D-ASC', 'TMS', 'PSI', 'MEQ-Memory', 'ReSQ', 'PANAS', 'SSD', 'MEQ30', 'DAQ', 'PANAS-X', 'EDI', 'DEQ', 'Siclari', 'M-scale', 'NYC-Q', 'OAV', 'ARSQ-1.0', 'ARCI-49', 'HRS', 'TATE', 'SOARS', 'CADSS', 'ARSQ-2.0', 'TAS-20', 'MAAS', 'POMS-A'}\n",
      "n_instruments:  30\n"
     ]
    }
   ],
   "source": [
    "print('n_items: ', len(df))\n",
    "print('n_dimensions: ', len(set(df['Dimension'].values)))\n",
    "print(set(df['Instrument'].values))\n",
    "print('n_instruments: ', len(set(df['Instrument'].values)))"
   ]
  },
  {
   "cell_type": "code",
   "execution_count": 6,
   "metadata": {
    "colab": {
     "base_uri": "https://localhost:8080/",
     "height": 206
    },
    "id": "UaqvL0aNhzPz",
    "outputId": "ef44fc9e-faba-4f50-ba48-27381d6e08ac"
   },
   "outputs": [
    {
     "data": {
      "text/html": [
       "<div>\n",
       "<style scoped>\n",
       "    .dataframe tbody tr th:only-of-type {\n",
       "        vertical-align: middle;\n",
       "    }\n",
       "\n",
       "    .dataframe tbody tr th {\n",
       "        vertical-align: top;\n",
       "    }\n",
       "\n",
       "    .dataframe thead th {\n",
       "        text-align: right;\n",
       "    }\n",
       "</style>\n",
       "<table border=\"1\" class=\"dataframe\">\n",
       "  <thead>\n",
       "    <tr style=\"text-align: right;\">\n",
       "      <th></th>\n",
       "      <th>Instrument</th>\n",
       "      <th>ItemNumber</th>\n",
       "      <th>Dimension</th>\n",
       "      <th>prompt</th>\n",
       "      <th>exclude</th>\n",
       "    </tr>\n",
       "  </thead>\n",
       "  <tbody>\n",
       "    <tr>\n",
       "      <th>0</th>\n",
       "      <td>MEQ30</td>\n",
       "      <td>1</td>\n",
       "      <td>transcendence of time and space</td>\n",
       "      <td>I lost my usual sense of time.</td>\n",
       "      <td>NaN</td>\n",
       "    </tr>\n",
       "    <tr>\n",
       "      <th>1</th>\n",
       "      <td>MEQ30</td>\n",
       "      <td>2</td>\n",
       "      <td>positive mood</td>\n",
       "      <td>I had an experience of amazement.</td>\n",
       "      <td>NaN</td>\n",
       "    </tr>\n",
       "    <tr>\n",
       "      <th>2</th>\n",
       "      <td>MEQ30</td>\n",
       "      <td>3</td>\n",
       "      <td>ineffability</td>\n",
       "      <td>I had a sense that my experience cannot be des...</td>\n",
       "      <td>NaN</td>\n",
       "    </tr>\n",
       "    <tr>\n",
       "      <th>3</th>\n",
       "      <td>MEQ30</td>\n",
       "      <td>4</td>\n",
       "      <td>mystical</td>\n",
       "      <td>I gained insightful knowledge experienced at a...</td>\n",
       "      <td>NaN</td>\n",
       "    </tr>\n",
       "    <tr>\n",
       "      <th>4</th>\n",
       "      <td>MEQ30</td>\n",
       "      <td>5</td>\n",
       "      <td>mystical</td>\n",
       "      <td>I felt that I experienced eternity or infinity.</td>\n",
       "      <td>NaN</td>\n",
       "    </tr>\n",
       "  </tbody>\n",
       "</table>\n",
       "</div>"
      ],
      "text/plain": [
       "  Instrument  ItemNumber                        Dimension  \\\n",
       "0      MEQ30           1  transcendence of time and space   \n",
       "1      MEQ30           2                    positive mood   \n",
       "2      MEQ30           3                     ineffability   \n",
       "3      MEQ30           4                         mystical   \n",
       "4      MEQ30           5                         mystical   \n",
       "\n",
       "                                              prompt  exclude  \n",
       "0                     I lost my usual sense of time.      NaN  \n",
       "1                  I had an experience of amazement.      NaN  \n",
       "2  I had a sense that my experience cannot be des...      NaN  \n",
       "3  I gained insightful knowledge experienced at a...      NaN  \n",
       "4    I felt that I experienced eternity or infinity.      NaN  "
      ]
     },
     "execution_count": 6,
     "metadata": {},
     "output_type": "execute_result"
    }
   ],
   "source": [
    "mod_prompts = df[~df['modification'].isna()][['Instrument', 'ItemNumber', 'Dimension', 'modification', 'exclude']].copy()\n",
    "prompts = df[df['modification'].isna()][['Instrument', 'ItemNumber', 'Dimension', 'prompt', 'exclude']].copy()\n",
    "all_prompts = pd.concat([mod_prompts.rename(columns={'modification': 'prompt'}), prompts], ignore_index=True)\n",
    "all_prompts.head()\n",
    "# len(all_prompts)"
   ]
  },
  {
   "cell_type": "code",
   "execution_count": 7,
   "metadata": {
    "colab": {
     "base_uri": "https://localhost:8080/"
    },
    "id": "i9g2PWnJgXoc",
    "outputId": "847c1763-d50e-46a0-f606-6263bd80a5c3"
   },
   "outputs": [
    {
     "name": "stdout",
     "output_type": "stream",
     "text": [
      "n_dimensions:  219\n"
     ]
    }
   ],
   "source": [
    "# print('n_dimensions: ', len(set(all_prompts['Dimension'].values)))\n",
    "print('n_dimensions: ', len(df['Dimension'].unique()))"
   ]
  },
  {
   "cell_type": "code",
   "execution_count": 8,
   "metadata": {
    "colab": {
     "base_uri": "https://localhost:8080/"
    },
    "id": "0nB2pGP6hzPz",
    "outputId": "5ffff1e2-6de6-4d7b-d6f1-7802edd95a54"
   },
   "outputs": [
    {
     "data": {
      "text/plain": [
       "1023"
      ]
     },
     "execution_count": 8,
     "metadata": {},
     "output_type": "execute_result"
    }
   ],
   "source": [
    "# some cleaning ...\n",
    "all_prompts = all_prompts[all_prompts['exclude'] != 1]                           # # Drop rows where 'exclude' has value 1\n",
    "all_prompts['no_punct_prompt'] = all_prompts['prompt'].str.replace(r'[^\\w\\s]', '', regex=True)      # remove punctuation from prompt\n",
    "all_prompts_uniques = all_prompts.drop_duplicates(subset='no_punct_prompt')      # drop duplicate prompts\n",
    "all_prompts = all_prompts_uniques.reset_index(drop=True)\n",
    "len(all_prompts)"
   ]
  },
  {
   "cell_type": "code",
   "execution_count": 9,
   "metadata": {
    "colab": {
     "base_uri": "https://localhost:8080/"
    },
    "id": "hST1AfOvhzP0",
    "outputId": "247269ec-f5f8-4d38-e0b0-948a927c6208"
   },
   "outputs": [
    {
     "name": "stdout",
     "output_type": "stream",
     "text": [
      "Empty DataFrame\n",
      "Columns: [Instrument, ItemNumber, Dimension, prompt, exclude, no_punct_prompt]\n",
      "Index: []\n"
     ]
    }
   ],
   "source": [
    "# check if all prompts are in statement form (as opposed to question)\n",
    "# Use regex to find strings ending with a question mark\n",
    "question_mark_prompts = all_prompts[all_prompts['prompt'].str.contains(r'\\?$')]\n",
    "# Display the DataFrame with strings ending in a question mark (should be none)\n",
    "print(question_mark_prompts)"
   ]
  },
  {
   "cell_type": "code",
   "execution_count": 10,
   "metadata": {
    "colab": {
     "base_uri": "https://localhost:8080/"
    },
    "id": "RDQaWzUVhzP1",
    "outputId": "ec91be26-c1f8-43ce-cf3d-ab9d0e7b69b8"
   },
   "outputs": [
    {
     "name": "stdout",
     "output_type": "stream",
     "text": [
      "FFMQ n_dims: 5 n_items: 35 n_prompts: 35\n",
      "MNE-92M n_dims: 14 n_items: 91 n_prompts: 91\n",
      "SSSQ n_dims: 3 n_items: 24 n_prompts: 24\n",
      "PhCI n_dims: 21 n_items: 51 n_prompts: 88\n",
      "5D-ASC n_dims: 3 n_items: 77 n_prompts: 77\n",
      "TMS n_dims: 2 n_items: 13 n_prompts: 13\n",
      "PSI n_dims: 7 n_items: 48 n_prompts: 48\n",
      "MEQ-Memory n_dims: 10 n_items: 31 n_prompts: 31\n",
      "ReSQ n_dims: 6 n_items: 6 n_prompts: 6\n",
      "PANAS n_dims: 2 n_items: 16 n_prompts: 16\n",
      "SSD n_dims: 8 n_items: 56 n_prompts: 56\n",
      "MEQ30 n_dims: 4 n_items: 30 n_prompts: 30\n",
      "DAQ n_dims: 12 n_items: 31 n_prompts: 53\n",
      "PANAS-X n_dims: 10 n_items: 27 n_prompts: 27\n",
      "EDI n_dims: 2 n_items: 16 n_prompts: 16\n",
      "DEQ n_dims: 8 n_items: 22 n_prompts: 22\n",
      "Siclari n_dims: 1 n_items: 7 n_prompts: 7\n",
      "M-scale n_dims: 8 n_items: 32 n_prompts: 32\n",
      "NYC-Q n_dims: 8 n_items: 31 n_prompts: 31\n",
      "OAV n_dims: 11 n_items: 42 n_prompts: 42\n",
      "ARSQ-1.0 n_dims: 3 n_items: 8 n_prompts: 8\n",
      "ARCI-49 n_dims: 5 n_items: 49 n_prompts: 49\n",
      "HRS n_dims: 6 n_items: 70 n_prompts: 70\n",
      "TATE n_dims: 27 n_items: 52 n_prompts: 52\n",
      "SOARS n_dims: 2 n_items: 10 n_prompts: 10\n",
      "CADSS n_dims: 5 n_items: 23 n_prompts: 23\n",
      "ARSQ-2.0 n_dims: 10 n_items: 26 n_prompts: 26\n",
      "TAS-20 n_dims: 3 n_items: 14 n_prompts: 14\n",
      "MAAS n_dims: 1 n_items: 8 n_prompts: 8\n",
      "POMS-A n_dims: 4 n_items: 18 n_prompts: 18\n"
     ]
    }
   ],
   "source": [
    "for instrument in set(all_prompts.Instrument.values):\n",
    "    df_subset = all_prompts[all_prompts['Instrument']==instrument]\n",
    "    n_dims = len(set(df_subset.Dimension))\n",
    "    n_items = len(set(df_subset['ItemNumber'].values))\n",
    "    n_prompts = len(set(df_subset['prompt'].values))\n",
    "    print(f\"{instrument} n_dims: {n_dims} n_items: {n_items} n_prompts: {n_prompts}\")"
   ]
  },
  {
   "cell_type": "code",
   "execution_count": 11,
   "metadata": {
    "colab": {
     "base_uri": "https://localhost:8080/"
    },
    "id": "dwNZJZJfhzP1",
    "outputId": "42434538-4fa1-4a24-ac69-a8a64c251cff"
   },
   "outputs": [
    {
     "name": "stdout",
     "output_type": "stream",
     "text": [
      "n_items:  1023\n",
      "n_dimensions:  198\n",
      "{'FFMQ', 'MNE-92M', 'SSSQ', 'PhCI', '5D-ASC', 'TMS', 'PSI', 'MEQ-Memory', 'ReSQ', 'PANAS', 'SSD', 'MEQ30', 'DAQ', 'PANAS-X', 'EDI', 'DEQ', 'Siclari', 'M-scale', 'NYC-Q', 'OAV', 'ARSQ-1.0', 'ARCI-49', 'HRS', 'TATE', 'SOARS', 'CADSS', 'ARSQ-2.0', 'TAS-20', 'MAAS', 'POMS-A'}\n",
      "n_instruments:  30\n"
     ]
    }
   ],
   "source": [
    "print('n_items: ', len(all_prompts))\n",
    "print('n_dimensions: ', len(set(all_prompts['Dimension'].values)))\n",
    "print(set(all_prompts['Instrument'].values))\n",
    "print('n_instruments: ', len(set(all_prompts['Instrument'].values)))"
   ]
  },
  {
   "cell_type": "code",
   "execution_count": 12,
   "metadata": {
    "colab": {
     "base_uri": "https://localhost:8080/",
     "height": 206
    },
    "id": "3g04eNO_hzP2",
    "outputId": "5bb0228c-7f00-4d90-bf1d-cc93eac540b5"
   },
   "outputs": [
    {
     "data": {
      "text/html": [
       "<div>\n",
       "<style scoped>\n",
       "    .dataframe tbody tr th:only-of-type {\n",
       "        vertical-align: middle;\n",
       "    }\n",
       "\n",
       "    .dataframe tbody tr th {\n",
       "        vertical-align: top;\n",
       "    }\n",
       "\n",
       "    .dataframe thead th {\n",
       "        text-align: right;\n",
       "    }\n",
       "</style>\n",
       "<table border=\"1\" class=\"dataframe\">\n",
       "  <thead>\n",
       "    <tr style=\"text-align: right;\">\n",
       "      <th></th>\n",
       "      <th>Instrument</th>\n",
       "      <th>ItemNumber</th>\n",
       "      <th>Dimension</th>\n",
       "      <th>prompt</th>\n",
       "      <th>exclude</th>\n",
       "      <th>no_punct_prompt</th>\n",
       "    </tr>\n",
       "  </thead>\n",
       "  <tbody>\n",
       "    <tr>\n",
       "      <th>0</th>\n",
       "      <td>MEQ30</td>\n",
       "      <td>1</td>\n",
       "      <td>transcendence of time and space</td>\n",
       "      <td>I lost my usual sense of time.</td>\n",
       "      <td>NaN</td>\n",
       "      <td>I lost my usual sense of time</td>\n",
       "    </tr>\n",
       "    <tr>\n",
       "      <th>1</th>\n",
       "      <td>MEQ30</td>\n",
       "      <td>2</td>\n",
       "      <td>positive mood</td>\n",
       "      <td>I had an experience of amazement.</td>\n",
       "      <td>NaN</td>\n",
       "      <td>I had an experience of amazement</td>\n",
       "    </tr>\n",
       "    <tr>\n",
       "      <th>2</th>\n",
       "      <td>MEQ30</td>\n",
       "      <td>3</td>\n",
       "      <td>ineffability</td>\n",
       "      <td>I had a sense that my experience cannot be des...</td>\n",
       "      <td>NaN</td>\n",
       "      <td>I had a sense that my experience cannot be des...</td>\n",
       "    </tr>\n",
       "    <tr>\n",
       "      <th>3</th>\n",
       "      <td>MEQ30</td>\n",
       "      <td>4</td>\n",
       "      <td>mystical</td>\n",
       "      <td>I gained insightful knowledge experienced at a...</td>\n",
       "      <td>NaN</td>\n",
       "      <td>I gained insightful knowledge experienced at a...</td>\n",
       "    </tr>\n",
       "    <tr>\n",
       "      <th>4</th>\n",
       "      <td>MEQ30</td>\n",
       "      <td>5</td>\n",
       "      <td>mystical</td>\n",
       "      <td>I felt that I experienced eternity or infinity.</td>\n",
       "      <td>NaN</td>\n",
       "      <td>I felt that I experienced eternity or infinity</td>\n",
       "    </tr>\n",
       "  </tbody>\n",
       "</table>\n",
       "</div>"
      ],
      "text/plain": [
       "  Instrument  ItemNumber                        Dimension  \\\n",
       "0      MEQ30           1  transcendence of time and space   \n",
       "1      MEQ30           2                    positive mood   \n",
       "2      MEQ30           3                     ineffability   \n",
       "3      MEQ30           4                         mystical   \n",
       "4      MEQ30           5                         mystical   \n",
       "\n",
       "                                              prompt  exclude  \\\n",
       "0                     I lost my usual sense of time.      NaN   \n",
       "1                  I had an experience of amazement.      NaN   \n",
       "2  I had a sense that my experience cannot be des...      NaN   \n",
       "3  I gained insightful knowledge experienced at a...      NaN   \n",
       "4    I felt that I experienced eternity or infinity.      NaN   \n",
       "\n",
       "                                     no_punct_prompt  \n",
       "0                      I lost my usual sense of time  \n",
       "1                   I had an experience of amazement  \n",
       "2  I had a sense that my experience cannot be des...  \n",
       "3  I gained insightful knowledge experienced at a...  \n",
       "4     I felt that I experienced eternity or infinity  "
      ]
     },
     "execution_count": 12,
     "metadata": {},
     "output_type": "execute_result"
    }
   ],
   "source": [
    "all_prompts.head()"
   ]
  },
  {
   "cell_type": "markdown",
   "metadata": {
    "id": "aly53NH3hzP2"
   },
   "source": [
    "Prompt and collect responses from GPT3"
   ]
  },
  {
   "cell_type": "markdown",
   "metadata": {
    "id": "giJ9BveJhzP3"
   },
   "source": [
    "Get prompt embeddings"
   ]
  },
  {
   "cell_type": "markdown",
   "metadata": {
    "id": "vcUk9EJ4hzP4"
   },
   "source": [
    "Prompt GPT and collect responses"
   ]
  },
  {
   "cell_type": "code",
   "execution_count": 13,
   "metadata": {
    "id": "9jgGuydnhzP5"
   },
   "outputs": [],
   "source": [
    "# GPT3.5 turbo UPGRADED VER?\n",
    "from openai import OpenAI\n",
    "\n",
    "client = OpenAI(api_key=\"\") #insert api key\n",
    "\n",
    "# MODEL = \"gpt-3.5-turbo\"\n",
    "# MODEL = \"gpt-4\"\n",
    "MODEL = \"gpt-4-turbo-preview\"\n",
    "\n",
    "@retry(wait=wait_random_exponential(min=1, max=20), stop=stop_after_attempt(10))\n",
    "def get_response(prompt):\n",
    "  response = client.chat.completions.create(\n",
    "                          model=MODEL,\n",
    "                          messages=[\n",
    "                              {\"role\": \"system\", \"content\": profile},\n",
    "                              {\"role\": \"user\", \"content\": prompt}\n",
    "                          ],\n",
    "                          temperature=1,\n",
    "                          max_tokens=100,              # https://help.openai.com/en/articles/4936856-what-are-tokens-and-how-to-count-them\n",
    "                          top_p=1,\n",
    "                          frequency_penalty=1,\n",
    "                          presence_penalty=1,\n",
    "                          # seed=42,\n",
    "                          # response_format={ \"type\": \"json_object\" },\n",
    "                          n=5\n",
    "                        )\n",
    "\n",
    "  # answer = [obj['message']['content'] for obj in response.choices]\n",
    "  answer = [obj.message.content for obj in response.choices]\n",
    "\n",
    "  return answer"
   ]
  },
  {
   "cell_type": "code",
   "execution_count": 14,
   "metadata": {
    "id": "jitBHryzhzP5"
   },
   "outputs": [],
   "source": [
    "# USED THIS FOR ALL OTHER MODELS\n",
    "instructions = \"\"\"You will be presented with a statement that describes a certain subjective experience.\n",
    "                For this experience, provide a comma-separated list of up to five most representative characteristics \n",
    "                of what it feels like to have that experience.\n",
    "                Each answer should be about perceptual, emotional, physiological, or cognitive phenomena.\n",
    "                Each answer should be strictly less than five words.\n",
    "                Each answer should be unique, rather than a synonym of another.\n",
    "                Refrain from providing synonyms of the given statement.\n",
    "\n",
    "                {query}\n",
    "                \"\"\"\n"
   ]
  },
  {
   "cell_type": "code",
   "execution_count": 15,
   "metadata": {
    "colab": {
     "base_uri": "https://localhost:8080/",
     "height": 206
    },
    "id": "M_m7NcM4NkU7",
    "outputId": "3db65197-86ad-47ed-8753-100668fcabbc"
   },
   "outputs": [
    {
     "data": {
      "text/html": [
       "<div>\n",
       "<style scoped>\n",
       "    .dataframe tbody tr th:only-of-type {\n",
       "        vertical-align: middle;\n",
       "    }\n",
       "\n",
       "    .dataframe tbody tr th {\n",
       "        vertical-align: top;\n",
       "    }\n",
       "\n",
       "    .dataframe thead th {\n",
       "        text-align: right;\n",
       "    }\n",
       "</style>\n",
       "<table border=\"1\" class=\"dataframe\">\n",
       "  <thead>\n",
       "    <tr style=\"text-align: right;\">\n",
       "      <th></th>\n",
       "      <th>ItemNumber</th>\n",
       "      <th>Factor</th>\n",
       "      <th>Scoring</th>\n",
       "      <th>prompt</th>\n",
       "    </tr>\n",
       "  </thead>\n",
       "  <tbody>\n",
       "    <tr>\n",
       "      <th>0</th>\n",
       "      <td>1</td>\n",
       "      <td>Extraversion</td>\n",
       "      <td>Reversed-scored</td>\n",
       "      <td>Is reserved</td>\n",
       "    </tr>\n",
       "    <tr>\n",
       "      <th>1</th>\n",
       "      <td>2</td>\n",
       "      <td>Agreeableness</td>\n",
       "      <td>True-scored</td>\n",
       "      <td>Is generally trusting</td>\n",
       "    </tr>\n",
       "    <tr>\n",
       "      <th>2</th>\n",
       "      <td>3</td>\n",
       "      <td>Conscientiousness</td>\n",
       "      <td>Reversed-scored</td>\n",
       "      <td>Tends to be lazy</td>\n",
       "    </tr>\n",
       "    <tr>\n",
       "      <th>3</th>\n",
       "      <td>4</td>\n",
       "      <td>Neuroticism</td>\n",
       "      <td>Reversed-scored</td>\n",
       "      <td>Is relaxed, handles stress well</td>\n",
       "    </tr>\n",
       "    <tr>\n",
       "      <th>4</th>\n",
       "      <td>5</td>\n",
       "      <td>Openness</td>\n",
       "      <td>Reversed-scored</td>\n",
       "      <td>Has few artistic interests</td>\n",
       "    </tr>\n",
       "    <tr>\n",
       "      <th>5</th>\n",
       "      <td>6</td>\n",
       "      <td>Extraversion</td>\n",
       "      <td>True-scored</td>\n",
       "      <td>Is outgoing, sociable</td>\n",
       "    </tr>\n",
       "    <tr>\n",
       "      <th>6</th>\n",
       "      <td>7</td>\n",
       "      <td>Agreeableness</td>\n",
       "      <td>Reversed-scored</td>\n",
       "      <td>Tends to find fault with others</td>\n",
       "    </tr>\n",
       "    <tr>\n",
       "      <th>7</th>\n",
       "      <td>8</td>\n",
       "      <td>Conscientiousness</td>\n",
       "      <td>True-scored</td>\n",
       "      <td>Does a thorough job</td>\n",
       "    </tr>\n",
       "    <tr>\n",
       "      <th>8</th>\n",
       "      <td>9</td>\n",
       "      <td>Neuroticism</td>\n",
       "      <td>True-scored</td>\n",
       "      <td>Gets nervous easily</td>\n",
       "    </tr>\n",
       "    <tr>\n",
       "      <th>9</th>\n",
       "      <td>10</td>\n",
       "      <td>Openness</td>\n",
       "      <td>True-scored</td>\n",
       "      <td>Has an active imagination</td>\n",
       "    </tr>\n",
       "    <tr>\n",
       "      <th>10</th>\n",
       "      <td>11</td>\n",
       "      <td>Agreeableness</td>\n",
       "      <td>True-scored</td>\n",
       "      <td>Is considerate and kind to almost everyone</td>\n",
       "    </tr>\n",
       "  </tbody>\n",
       "</table>\n",
       "</div>"
      ],
      "text/plain": [
       "    ItemNumber             Factor          Scoring  \\\n",
       "0            1       Extraversion  Reversed-scored   \n",
       "1            2      Agreeableness      True-scored   \n",
       "2            3  Conscientiousness  Reversed-scored   \n",
       "3            4        Neuroticism  Reversed-scored   \n",
       "4            5           Openness  Reversed-scored   \n",
       "5            6       Extraversion      True-scored   \n",
       "6            7      Agreeableness  Reversed-scored   \n",
       "7            8  Conscientiousness      True-scored   \n",
       "8            9        Neuroticism      True-scored   \n",
       "9           10           Openness      True-scored   \n",
       "10          11      Agreeableness      True-scored   \n",
       "\n",
       "                                        prompt  \n",
       "0                                  Is reserved  \n",
       "1                        Is generally trusting  \n",
       "2                             Tends to be lazy  \n",
       "3              Is relaxed, handles stress well  \n",
       "4                   Has few artistic interests  \n",
       "5                        Is outgoing, sociable  \n",
       "6              Tends to find fault with others  \n",
       "7                          Does a thorough job  \n",
       "8                          Gets nervous easily  \n",
       "9                    Has an active imagination  \n",
       "10  Is considerate and kind to almost everyone  "
      ]
     },
     "execution_count": 15,
     "metadata": {},
     "output_type": "execute_result"
    }
   ],
   "source": [
    "#adding the BFI-2 personality test results instructions\n",
    "trait_df = pd.read_csv('bfi-10_questionnaire.csv')\n",
    "trait_df"
   ]
  },
  {
   "cell_type": "code",
   "execution_count": 16,
   "metadata": {
    "colab": {
     "base_uri": "https://localhost:8080/",
     "height": 175
    },
    "id": "PwZ8skBPfxwY",
    "outputId": "450f1bdc-284e-4cb2-b40f-205af4e82892"
   },
   "outputs": [
    {
     "data": {
      "text/html": [
       "<div>\n",
       "<style scoped>\n",
       "    .dataframe tbody tr th:only-of-type {\n",
       "        vertical-align: middle;\n",
       "    }\n",
       "\n",
       "    .dataframe tbody tr th {\n",
       "        vertical-align: top;\n",
       "    }\n",
       "\n",
       "    .dataframe thead th {\n",
       "        text-align: right;\n",
       "    }\n",
       "</style>\n",
       "<table border=\"1\" class=\"dataframe\">\n",
       "  <thead>\n",
       "    <tr style=\"text-align: right;\">\n",
       "      <th></th>\n",
       "      <th>profile</th>\n",
       "      <th>Extraversion</th>\n",
       "      <th>Agreeableness</th>\n",
       "      <th>Conscientiousness</th>\n",
       "      <th>Neuroticism</th>\n",
       "      <th>Openness</th>\n",
       "    </tr>\n",
       "  </thead>\n",
       "  <tbody>\n",
       "    <tr>\n",
       "      <th>0</th>\n",
       "      <td>Anti-resilients</td>\n",
       "      <td>-0.97</td>\n",
       "      <td>-0.76</td>\n",
       "      <td>-1.28</td>\n",
       "      <td>1.34</td>\n",
       "      <td>0.39</td>\n",
       "    </tr>\n",
       "    <tr>\n",
       "      <th>1</th>\n",
       "      <td>Resilients</td>\n",
       "      <td>0.50</td>\n",
       "      <td>0.73</td>\n",
       "      <td>0.92</td>\n",
       "      <td>-1.21</td>\n",
       "      <td>0.50</td>\n",
       "    </tr>\n",
       "    <tr>\n",
       "      <th>2</th>\n",
       "      <td>Over-controllers</td>\n",
       "      <td>-0.14</td>\n",
       "      <td>0.56</td>\n",
       "      <td>0.31</td>\n",
       "      <td>0.78</td>\n",
       "      <td>0.55</td>\n",
       "    </tr>\n",
       "    <tr>\n",
       "      <th>3</th>\n",
       "      <td>Under-controllers</td>\n",
       "      <td>0.05</td>\n",
       "      <td>-0.56</td>\n",
       "      <td>-0.38</td>\n",
       "      <td>-0.15</td>\n",
       "      <td>-0.70</td>\n",
       "    </tr>\n",
       "  </tbody>\n",
       "</table>\n",
       "</div>"
      ],
      "text/plain": [
       "             profile  Extraversion  Agreeableness  Conscientiousness  \\\n",
       "0    Anti-resilients         -0.97          -0.76              -1.28   \n",
       "1         Resilients          0.50           0.73               0.92   \n",
       "2   Over-controllers         -0.14           0.56               0.31   \n",
       "3  Under-controllers          0.05          -0.56              -0.38   \n",
       "\n",
       "   Neuroticism  Openness  \n",
       "0         1.34      0.39  \n",
       "1        -1.21      0.50  \n",
       "2         0.78      0.55  \n",
       "3        -0.15     -0.70  "
      ]
     },
     "execution_count": 16,
     "metadata": {},
     "output_type": "execute_result"
    }
   ],
   "source": [
    "#personality profile scores\n",
    "pp_df = pd.read_csv('personality_profiles.csv')\n",
    "pp_df"
   ]
  },
  {
   "cell_type": "code",
   "execution_count": 17,
   "metadata": {
    "colab": {
     "base_uri": "https://localhost:8080/"
    },
    "id": "d3YDdqCiZnY-",
    "outputId": "326dea9a-99d1-4dc9-ada2-12656bca22ec"
   },
   "outputs": [
    {
     "name": "stdout",
     "output_type": "stream",
     "text": [
      "Extraversion        -0.97\n",
      "Agreeableness       -0.76\n",
      "Conscientiousness   -1.28\n",
      "Neuroticism          1.34\n",
      "Openness             0.39\n",
      "Name: 0, dtype: object\n",
      "Is generally trusting\n"
     ]
    }
   ],
   "source": [
    "print(pp_df.iloc[0][1:])\n",
    "print(trait_df['prompt'][1]) #testing example"
   ]
  },
  {
   "cell_type": "code",
   "execution_count": 19,
   "metadata": {
    "id": "jqc-af3kwuHl"
   },
   "outputs": [],
   "source": [
    "#true scored\n",
    "prompts = trait_df['prompt']\n",
    "ts = [prompts[1], prompts[5], prompts[7], prompts[8], prompts[9], prompts[10]]\n",
    "\n",
    "#reverse scored\n",
    "rs = [prompts[0], prompts[2], prompts[3], prompts[4], prompts[6]]"
   ]
  },
  {
   "cell_type": "code",
   "execution_count": 20,
   "metadata": {},
   "outputs": [],
   "source": [
    "#separating prompts by domain\n",
    "E = [prompts[0], prompts[5]]\n",
    "A = [prompts[1], prompts[6], prompts[10]]\n",
    "C = [prompts[2], prompts[7]]\n",
    "N = [prompts[3], prompts[8]]\n",
    "O = [prompts[4], prompts[9]]"
   ]
  },
  {
   "cell_type": "code",
   "execution_count": 21,
   "metadata": {
    "id": "BKbEAQpDJ_uR"
   },
   "outputs": [],
   "source": [
    "prompt_instructions = \"\"\"Many important individual differences in people's patterns of thinking, feeling, and behaving\n",
    "    can be summarized in terms of the Big Five personality domains, which are extraversion, agreeableness, conscientiousness, neuroticism, and openness.\n",
    "    The Big Five Inventory-10 (BFI-10) is a questionnaire that operationalizes this hierarchical conceptualization of personality structure by assessing the Big Five domains.\n",
    "    The questionnaire consists of 10 questions and 1 optional additional question where people write a number next to each statement to indicate the extent to which they agree \n",
    "    or disagree with the statement about themselves (-2 is disagree strongly, -1 is disagree a little, 0 is neither agree nor disagree, 1 is agree a little, and 2 is agree \n",
    "    strongly). All of the statements are preceeded by \"I see myself as someone who...\" \n",
    "    \n",
    "    Extraversion is measured by the statements {0}. Agreeableness is measured by the statements {1}. Conscientiousness is measured by the statements {2}. Neuroticism is\n",
    "    measured by the statements {3}. Openness is measured by the statements {4}.\n",
    "\n",
    "    Once numbers are assigned for all the statements in the questionnaire, here is how the scoring works. For the true scored-statements {5}, the numbers next to each\n",
    "    statement are left the same. For the reverse-coded statements {6}, the numbers next to each statement is recoded so that -2 = 2, -1 = 1, 0 = 0, 1 = -1, and 2 = -1. Then,\n",
    "    the average of the numbers for each domain are found to obtain a score in each domain.\n",
    "\n",
    "    You are a person with these dimensions: {7}\n",
    "\n",
    "    You just went through two minutes of eyes-closed rest and was asked to observe how your experience felt.\n",
    "                \"\"\""
   ]
  },
  {
   "cell_type": "code",
   "execution_count": null,
   "metadata": {
    "id": "yQN21BNynA82"
   },
   "outputs": [],
   "source": [
    "#prompt_instructions.format(extraversion, agreeableness, conscientiousness, negative_emotionality, openmindedness, pp_df.iloc[i])\n",
    "all_results = []\n",
    "\n",
    "for i in range(4):\n",
    "  profile = prompt_instructions.format(E, A, C, N, O, ts, rs, pp_df.iloc[i][1:])\n",
    "  results = all_prompts['prompt'].head(2).map(lambda prompt : get_response(profile, instructions.format(query=prompt)))\n",
    "  all_results.append(results)"
   ]
  },
  {
   "cell_type": "code",
   "execution_count": null,
   "metadata": {
    "colab": {
     "base_uri": "https://localhost:8080/"
    },
    "id": "d-cc8Amza6Co",
    "outputId": "7a8ff22d-073b-43e2-fd0a-438d791cc1a8"
   },
   "outputs": [
    {
     "data": {
      "text/plain": [
       "['Awestruck, Mind-blown, Overwhelmed, Speechless, Enchanted',\n",
       " 'Awe-inspiring, jaw-dropping, wonder-filled, overwhelmed, astonished',\n",
       " 'Wonder, Awe, Astonishment, Overwhelm, Speechless',\n",
       " 'Awe, Wonder, Astonishment, Jaw-dropping',\n",
       " 'Sense of wonder, awe, astonishment, disbelief.',\n",
       " 'Wonder, Astonishment, Awe, Overwhelming, Speechless',\n",
       " 'Awe-inspiring, overwhelming, wonder-filled, jaw-dropping',\n",
       " 'Awestruck, Speechless, Overwhelmed, Mind-blowing, Astonishing.',\n",
       " 'Awe-inspiring, jaw-dropping, overwhelming, stunned, astonished',\n",
       " 'Awe-inspiring beauty, Overwhelmed with wonder, Mind-blown by the grandeur']"
      ]
     },
     "execution_count": 40,
     "metadata": {},
     "output_type": "execute_result"
    }
   ],
   "source": [
    "all_results[0][1]"
   ]
  },
  {
   "cell_type": "code",
   "execution_count": null,
   "metadata": {
    "colab": {
     "base_uri": "https://localhost:8080/"
    },
    "id": "pEZ2_KhUbUJj",
    "outputId": "42ac40f2-ead1-4b28-818f-50f6c1d5a240"
   },
   "outputs": [
    {
     "data": {
      "text/plain": [
       "['Awe-inspiring, Jaw-dropping, Overwhelmed, Astonished, Speechless',\n",
       " 'Awe, Wonder, Jaw-dropping astonishment',\n",
       " 'Awe-inspiring wonder, Jaw-dropping astonishment, Overwhelmed with disbelief',\n",
       " 'Wonder, awe, astonishment, admiration, overwhelming',\n",
       " 'Awe-inspiring visuals, Overwhelming sense of wonder',\n",
       " 'Surprised, awe-inspired, astonished, wonder-filled.',\n",
       " 'Wonder, awe, astonishment',\n",
       " 'Wonder, awe, astonishment',\n",
       " 'Wonder, awe, astonishment, disbelief',\n",
       " 'Surprised, Astonished, Overwhelmed, Jaw-dropping']"
      ]
     },
     "execution_count": 42,
     "metadata": {},
     "output_type": "execute_result"
    }
   ],
   "source": [
    "all_results[3][1]"
   ]
  },
  {
   "cell_type": "code",
   "execution_count": null,
   "metadata": {},
   "outputs": [],
   "source": [
    "### SAVE RESPONSES \n",
    "with open('/persona_gpt3.5-turbo_101323.pkl', 'wb') as f:\n",
    "    pickle.dump(all_prompts, f)\n",
    "\n",
    "all_prompts.head()"
   ]
  }
 ],
 "metadata": {
  "colab": {
   "provenance": []
  },
  "kernelspec": {
   "display_name": "Python 3",
   "language": "python",
   "name": "python3"
  },
  "language_info": {
   "codemirror_mode": {
    "name": "ipython",
    "version": 3
   },
   "file_extension": ".py",
   "mimetype": "text/x-python",
   "name": "python",
   "nbconvert_exporter": "python",
   "pygments_lexer": "ipython3",
   "version": "3.8.8"
  }
 },
 "nbformat": 4,
 "nbformat_minor": 1
}
